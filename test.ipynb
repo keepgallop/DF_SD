{
 "cells": [
  {
   "cell_type": "code",
   "execution_count": 9,
   "metadata": {},
   "outputs": [],
   "source": [
    "import numpy as np\n",
    "import torch"
   ]
  },
  {
   "cell_type": "code",
   "execution_count": 69,
   "metadata": {},
   "outputs": [
    {
     "name": "stdout",
     "output_type": "stream",
     "text": [
      "tensor([[0., 0., 0., 0., 0., 0., 0., 0., 0., 0.],\n",
      "        [1., 1., 1., 1., 1., 1., 1., 1., 1., 1.],\n",
      "        [2., 2., 2., 2., 2., 2., 2., 2., 2., 2.],\n",
      "        [3., 3., 3., 3., 3., 3., 3., 3., 3., 3.],\n",
      "        [4., 4., 4., 4., 4., 4., 4., 4., 4., 4.],\n",
      "        [5., 5., 5., 5., 5., 5., 5., 5., 5., 5.],\n",
      "        [6., 6., 6., 6., 6., 6., 6., 6., 6., 6.],\n",
      "        [7., 7., 7., 7., 7., 7., 7., 7., 7., 7.],\n",
      "        [8., 8., 8., 8., 8., 8., 8., 8., 8., 8.],\n",
      "        [9., 9., 9., 9., 9., 9., 9., 9., 9., 9.]])\n",
      "tensor([[50., 41., 34., 29., 26., 25., 26., 29., 34., 41.],\n",
      "        [41., 32., 25., 20., 17., 16., 17., 20., 25., 32.],\n",
      "        [34., 25., 18., 13., 10.,  9., 10., 13., 18., 25.],\n",
      "        [29., 20., 13.,  8.,  5.,  4.,  5.,  8., 13., 20.],\n",
      "        [26., 17., 10.,  5.,  2.,  1.,  2.,  5., 10., 17.],\n",
      "        [25., 16.,  9.,  4.,  1.,  0.,  1.,  4.,  9., 16.],\n",
      "        [26., 17., 10.,  5.,  2.,  1.,  2.,  5., 10., 17.],\n",
      "        [29., 20., 13.,  8.,  5.,  4.,  5.,  8., 13., 20.],\n",
      "        [34., 25., 18., 13., 10.,  9., 10., 13., 18., 25.],\n",
      "        [41., 32., 25., 20., 17., 16., 17., 20., 25., 32.]])\n",
      "tensor([0.8904, 0.4982, 0.4757, 0.4432, 0.4790, 0.6390, 0.3301, 0.9388])\n"
     ]
    }
   ],
   "source": [
    "\n",
    "\n",
    "image_t = torch.rand((10,10))\n",
    "x_index = torch.zeros_like(image_t)\n",
    "for i in range(10):\n",
    "    x_index[i,:] = torch.arange(0,10)\n",
    "# x_index = x_index.to(dtype=torch.int)\n",
    "y_index = x_index.transpose(0,1)\n",
    "print(y_index)\n",
    "print((x_index - 10 / 2)**2 + (y_index - 10 / 2)**2)\n",
    "radius = torch.sqrt((x_index - 10 / 2)**2 + (y_index - 10 / 2)**2)\n",
    "radius = radius.to(dtype=torch.int)\n",
    "radius = torch.flatten(radius)\n",
    "radius_bin = torch.bincount(radius)\n",
    "ten_bin = torch.bincount(radius, image_t.flatten())\n",
    "radial_prof = ten_bin / (radius_bin + 1e-10)\n",
    "# radius = radius.view(128*128)\n",
    "print(radial_prof)"
   ]
  },
  {
   "cell_type": "code",
   "execution_count": 82,
   "metadata": {},
   "outputs": [
    {
     "ename": "TypeError",
     "evalue": "empty() received an invalid combination of arguments - got (), but expected one of:\n * (tuple of ints size, *, tuple of names names, torch.memory_format memory_format, torch.dtype dtype, torch.layout layout, torch.device device, bool pin_memory, bool requires_grad)\n * (tuple of ints size, *, torch.memory_format memory_format, Tensor out, torch.dtype dtype, torch.layout layout, torch.device device, bool pin_memory, bool requires_grad)\n",
     "output_type": "error",
     "traceback": [
      "\u001b[0;31m---------------------------------------------------------------------------\u001b[0m",
      "\u001b[0;31mTypeError\u001b[0m                                 Traceback (most recent call last)",
      "\u001b[0;32m/tmp/ipykernel_1582786/2731585346.py\u001b[0m in \u001b[0;36m<module>\u001b[0;34m\u001b[0m\n\u001b[0;32m----> 1\u001b[0;31m \u001b[0mx\u001b[0m \u001b[0;34m=\u001b[0m \u001b[0mtorch\u001b[0m\u001b[0;34m.\u001b[0m\u001b[0mempty\u001b[0m\u001b[0;34m(\u001b[0m\u001b[0;34m)\u001b[0m\u001b[0;34m\u001b[0m\u001b[0;34m\u001b[0m\u001b[0m\n\u001b[0m",
      "\u001b[0;31mTypeError\u001b[0m: empty() received an invalid combination of arguments - got (), but expected one of:\n * (tuple of ints size, *, tuple of names names, torch.memory_format memory_format, torch.dtype dtype, torch.layout layout, torch.device device, bool pin_memory, bool requires_grad)\n * (tuple of ints size, *, torch.memory_format memory_format, Tensor out, torch.dtype dtype, torch.layout layout, torch.device device, bool pin_memory, bool requires_grad)\n"
     ]
    }
   ],
   "source": [
    "x = torch.empty()"
   ]
  },
  {
   "cell_type": "code",
   "execution_count": 80,
   "metadata": {},
   "outputs": [
    {
     "ename": "RuntimeError",
     "evalue": "expand(torch.FloatTensor{[10]}, size=[]): the number of sizes provided (0) must be greater or equal to the number of dimensions in the tensor (1)",
     "output_type": "error",
     "traceback": [
      "\u001b[0;31m---------------------------------------------------------------------------\u001b[0m",
      "\u001b[0;31mRuntimeError\u001b[0m                              Traceback (most recent call last)",
      "\u001b[0;32m/tmp/ipykernel_1582786/1010528280.py\u001b[0m in \u001b[0;36m<module>\u001b[0;34m\u001b[0m\n\u001b[1;32m      1\u001b[0m \u001b[0my\u001b[0m \u001b[0;34m=\u001b[0m \u001b[0mtorch\u001b[0m\u001b[0;34m.\u001b[0m\u001b[0mrand\u001b[0m\u001b[0;34m(\u001b[0m\u001b[0;36m5\u001b[0m\u001b[0;34m)\u001b[0m\u001b[0;34m\u001b[0m\u001b[0;34m\u001b[0m\u001b[0m\n\u001b[1;32m      2\u001b[0m \u001b[0;32mfor\u001b[0m \u001b[0mi\u001b[0m \u001b[0;32min\u001b[0m \u001b[0mrange\u001b[0m\u001b[0;34m(\u001b[0m\u001b[0;36m5\u001b[0m\u001b[0;34m)\u001b[0m\u001b[0;34m:\u001b[0m\u001b[0;34m\u001b[0m\u001b[0;34m\u001b[0m\u001b[0m\n\u001b[0;32m----> 3\u001b[0;31m     \u001b[0my\u001b[0m\u001b[0;34m[\u001b[0m\u001b[0mi\u001b[0m\u001b[0;34m]\u001b[0m \u001b[0;34m=\u001b[0m \u001b[0mx\u001b[0m\u001b[0;34m\u001b[0m\u001b[0;34m\u001b[0m\u001b[0m\n\u001b[0m",
      "\u001b[0;31mRuntimeError\u001b[0m: expand(torch.FloatTensor{[10]}, size=[]): the number of sizes provided (0) must be greater or equal to the number of dimensions in the tensor (1)"
     ]
    }
   ],
   "source": [
    "y = torch.rand(5)\n",
    "for i in range(5):\n",
    "    y[i] = x"
   ]
  },
  {
   "cell_type": "code",
   "execution_count": 70,
   "metadata": {},
   "outputs": [
    {
     "name": "stdout",
     "output_type": "stream",
     "text": [
      "[7 6 5 5 5 5 5 5 5 6 6 5 5 4 4 4 4 4 5 5 5 5 4 3 3 3 3 3 4 5 5 4 3 2 2 2 2\n",
      " 2 3 4 5 4 3 2 1 1 1 2 3 4 5 4 3 2 1 0 1 2 3 4 5 4 3 2 1 1 1 2 3 4 5 4 3 2\n",
      " 2 2 2 2 3 4 5 5 4 3 3 3 3 3 4 5 6 5 5 4 4 4 4 4 5 5]\n",
      "[ 1  8 16 20 24 26  4  1]\n",
      "[ 0.89038849  3.98525614  7.61187625  8.86322182 11.49624634 16.61291754\n",
      "  1.32034212  0.93878275]\n",
      "[0.89038849 0.49815702 0.47574227 0.44316109 0.47901026 0.63895837\n",
      " 0.33008553 0.93878275]\n"
     ]
    },
    {
     "name": "stderr",
     "output_type": "stream",
     "text": [
      "/tmp/ipykernel_1582786/2737864010.py:13: DeprecationWarning: `np.int` is a deprecated alias for the builtin `int`. To silence this warning, use `int` by itself. Doing this will not modify any behavior and is safe. When replacing `np.int`, you may wish to use e.g. `np.int64` or `np.int32` to specify the precision. If you wish to review your current use, check the release note link for additional information.\n",
      "Deprecated in NumPy 1.20; for more details and guidance: https://numpy.org/devdocs/release/1.20.0-notes.html#deprecations\n",
      "  radius = radius.astype(np.int).ravel()\n"
     ]
    }
   ],
   "source": [
    "# Calculate the indices from the image\n",
    "image = image_t.numpy()\n",
    "H, W = image.shape[0], image.shape[1]\n",
    "y, x = np.indices([H, W])\n",
    "# print(x)\n",
    "# print(y)\n",
    "# print(y.shape, x.shape)\n",
    "# print((x - H / 2)**2 + (y - W / 2)**2)\n",
    "radius = np.sqrt((x - H / 2)**2 + (y - W / 2)**2)\n",
    "# print(radius)\n",
    "# print(radius.shape)\n",
    "\n",
    "radius = radius.astype(np.int).ravel()\n",
    "print(radius)\n",
    "nr = np.bincount(radius)\n",
    "print(nr)\n",
    "tbin = np.bincount(radius, image.ravel())\n",
    "print(tbin)\n",
    "radial_prof = tbin / (nr + 1e-10)\n",
    "print(radial_prof)\n",
    "# return radial_prof[\n",
    "#     1:\n",
    "#     -2]  "
   ]
  },
  {
   "cell_type": "code",
   "execution_count": null,
   "metadata": {},
   "outputs": [],
   "source": []
  }
 ],
 "metadata": {
  "interpreter": {
   "hash": "2520eb7664e3f7b03ae5bd1a5c0d3760ec65a04eaab1564a091371949fd60507"
  },
  "kernelspec": {
   "display_name": "Python 3.8.12 ('SDM')",
   "language": "python",
   "name": "python3"
  },
  "language_info": {
   "codemirror_mode": {
    "name": "ipython",
    "version": 3
   },
   "file_extension": ".py",
   "mimetype": "text/x-python",
   "name": "python",
   "nbconvert_exporter": "python",
   "pygments_lexer": "ipython3",
   "version": "3.8.12"
  },
  "orig_nbformat": 4
 },
 "nbformat": 4,
 "nbformat_minor": 2
}
